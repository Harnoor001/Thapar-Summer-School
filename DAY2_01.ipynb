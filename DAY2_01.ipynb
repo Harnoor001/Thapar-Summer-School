{
  "nbformat": 4,
  "nbformat_minor": 0,
  "metadata": {
    "colab": {
      "provenance": [],
      "authorship_tag": "ABX9TyMC7bxpYwWrht0c9MDu7X3M",
      "include_colab_link": true
    },
    "kernelspec": {
      "name": "python3",
      "display_name": "Python 3"
    },
    "language_info": {
      "name": "python"
    }
  },
  "cells": [
    {
      "cell_type": "markdown",
      "metadata": {
        "id": "view-in-github",
        "colab_type": "text"
      },
      "source": [
        "<a href=\"https://colab.research.google.com/github/Harnoor001/Thapar-Summer-School/blob/main/DAY2_01.ipynb\" target=\"_parent\"><img src=\"https://colab.research.google.com/assets/colab-badge.svg\" alt=\"Open In Colab\"/></a>"
      ]
    },
    {
      "cell_type": "markdown",
      "source": [
        "DAY-02 Mini Project 1 : Python Assignment"
      ],
      "metadata": {
        "id": "AK6QxJWrQ2Tg"
      }
    },
    {
      "cell_type": "code",
      "source": [
        "# QUE 1\n",
        "#q1\n",
        "L=[11,12,13,14]\n",
        "\n",
        "L.append(50)\n",
        "L.append(60)\n",
        "\n",
        "print(L)"
      ],
      "metadata": {
        "colab": {
          "base_uri": "https://localhost:8080/"
        },
        "id": "td0HeIMdRBdX",
        "outputId": "d97da2fe-642b-4879-be67-a1dbc1cebeab"
      },
      "execution_count": null,
      "outputs": [
        {
          "output_type": "stream",
          "name": "stdout",
          "text": [
            "[11, 12, 13, 14, 50, 60]\n"
          ]
        }
      ]
    },
    {
      "cell_type": "code",
      "source": [
        "#q2\n",
        "L=[11,12,13,14]\n",
        "del L[0]\n",
        "del L[1]\n",
        "print(L)"
      ],
      "metadata": {
        "colab": {
          "base_uri": "https://localhost:8080/"
        },
        "id": "NKM9hCPxROgL",
        "outputId": "34cb521e-8635-4e42-ef28-fb80d33c1552"
      },
      "execution_count": null,
      "outputs": [
        {
          "output_type": "stream",
          "name": "stdout",
          "text": [
            "[12, 14]\n"
          ]
        }
      ]
    },
    {
      "cell_type": "code",
      "source": [
        "#q3\n",
        "L=[11,12,13,14]\n",
        "L.sort()\n",
        "print(L)"
      ],
      "metadata": {
        "id": "TloDu15hRZvF",
        "colab": {
          "base_uri": "https://localhost:8080/"
        },
        "outputId": "40a158ad-6c53-4d18-ee66-527850b66ee0"
      },
      "execution_count": null,
      "outputs": [
        {
          "output_type": "stream",
          "name": "stdout",
          "text": [
            "[11, 12, 13, 14]\n"
          ]
        }
      ]
    },
    {
      "cell_type": "code",
      "source": [
        "#q4\n",
        "L=[11,12,13,14]\n",
        "L.sort(reverse=True) #sort descending order\n",
        "print(L)"
      ],
      "metadata": {
        "id": "lv0xujscRc3v",
        "colab": {
          "base_uri": "https://localhost:8080/"
        },
        "outputId": "985b1b3d-4e4c-4f4b-bba9-2b9b25c9ce6e"
      },
      "execution_count": null,
      "outputs": [
        {
          "output_type": "stream",
          "name": "stdout",
          "text": [
            "[14, 13, 12, 11]\n"
          ]
        }
      ]
    },
    {
      "cell_type": "code",
      "source": [
        "#q5\n",
        "L=[11,12,13,14]\n",
        "if (13 in L) ==True:\n",
        "    print(\"present\")\n",
        "else:\n",
        "    print(\"not present\")\n"
      ],
      "metadata": {
        "id": "iL_rbvzfRgXK",
        "colab": {
          "base_uri": "https://localhost:8080/"
        },
        "outputId": "d786fec8-7ff5-409d-da2d-6d9fd318f37e"
      },
      "execution_count": null,
      "outputs": [
        {
          "output_type": "stream",
          "name": "stdout",
          "text": [
            "present\n"
          ]
        }
      ]
    },
    {
      "cell_type": "code",
      "source": [
        "#q6\n",
        "L=[11,12,13,14]\n",
        "print (\"Original List --> \", L)\n",
        "a=0\n",
        "for s in L:\n",
        "    a=a+1\n",
        "print(\"Total number of elements in LIST ->\",a)"
      ],
      "metadata": {
        "id": "5Y43NTn5RkyX",
        "colab": {
          "base_uri": "https://localhost:8080/"
        },
        "outputId": "7869032d-f97b-4920-b9ce-0b1c3af92205"
      },
      "execution_count": null,
      "outputs": [
        {
          "output_type": "stream",
          "name": "stdout",
          "text": [
            "Original List -->  [11, 12, 13, 14]\n",
            "Total number of elements in LIST -> 4\n"
          ]
        }
      ]
    },
    {
      "cell_type": "code",
      "source": [
        "#q7\n",
        "L=[11,12,13,14]\n",
        "print (\"Original List --> \", L)\n",
        "a=0\n",
        "for s in L:\n",
        "    a=a+s\n",
        "print(\"SUM OF ALL ELEMENTS:\",a)\n",
        "\n",
        "\"\"\"\n",
        "L=[11,12,13,14]\n",
        "total= sum(L)\n",
        "print(\"SUM OF ALL ELEMENTS:\",total)\n",
        "\"\"\""
      ],
      "metadata": {
        "id": "PjlXO-J6Rt47",
        "colab": {
          "base_uri": "https://localhost:8080/",
          "height": 71
        },
        "outputId": "be6ec690-8cf5-4469-cd47-9ebf82088c8f"
      },
      "execution_count": null,
      "outputs": [
        {
          "output_type": "stream",
          "name": "stdout",
          "text": [
            "Original List -->  [11, 12, 13, 14]\n",
            "SUM OF ALL ELEMENTS: 50\n"
          ]
        },
        {
          "output_type": "execute_result",
          "data": {
            "text/plain": [
              "'\\nL=[11,12,13,14]\\ntotal= sum(L)\\nprint(\"SUM OF ALL ELEMENTS:\",total)\\n'"
            ],
            "application/vnd.google.colaboratory.intrinsic+json": {
              "type": "string"
            }
          },
          "metadata": {},
          "execution_count": 63
        }
      ]
    },
    {
      "cell_type": "code",
      "source": [
        "#q8\n",
        "L = [11, 12, 13, 14]\n",
        "print(\"Original List -->\", L)\n",
        "\n",
        "a = 0\n",
        "for s in L:\n",
        "    if (s % 2 != 0):\n",
        "        a = a + s\n",
        "\n",
        "print(\"SUM OF ALL ODD ELEMENTS:\", a)\n"
      ],
      "metadata": {
        "id": "GLahR5rJRxxw",
        "colab": {
          "base_uri": "https://localhost:8080/"
        },
        "outputId": "59133871-841d-43fc-f639-af08ddf99faa"
      },
      "execution_count": null,
      "outputs": [
        {
          "output_type": "stream",
          "name": "stdout",
          "text": [
            "Original List --> [11, 12, 13, 14]\n",
            "SUM OF ALL ODD ELEMENTS: 24\n"
          ]
        }
      ]
    },
    {
      "cell_type": "code",
      "source": [
        "#q9\n",
        "L = [11, 12, 13, 14]\n",
        "print(\"Original List -->\", L)\n",
        "\n",
        "a = 0\n",
        "for s in L:\n",
        "    if (s % 2 == 0):\n",
        "        a = a + s\n",
        "\n",
        "print(\"SUM OF ALL EVEN ELEMENTS:\", a)\n"
      ],
      "metadata": {
        "id": "H35CqH8mRz2b",
        "colab": {
          "base_uri": "https://localhost:8080/"
        },
        "outputId": "55e469fb-1273-4a67-85d0-7d7b4d30d871"
      },
      "execution_count": null,
      "outputs": [
        {
          "output_type": "stream",
          "name": "stdout",
          "text": [
            "Original List --> [11, 12, 13, 14]\n",
            "SUM OF ALL EVEN ELEMENTS: 26\n"
          ]
        }
      ]
    },
    {
      "cell_type": "code",
      "source": [
        "#q10\n",
        "def is_prime(n):\n",
        "    if n <= 1:\n",
        "        return False\n",
        "    for i in range(2, int(n**0.5) + 1):\n",
        "        if n % i == 0:\n",
        "            return False\n",
        "    return True\n",
        "\n",
        "L = [11, 12, 13, 14]\n",
        "print(\"Original List -->\", L)\n",
        "\n",
        "sum_prime = 0\n",
        "for num in L:\n",
        "    if is_prime(num):\n",
        "        sum_prime += num\n",
        "\n",
        "print(\"SUM OF ALL PRIME ELEMENTS:\", sum_prime)\n"
      ],
      "metadata": {
        "id": "NZOwsqmoR4cR",
        "colab": {
          "base_uri": "https://localhost:8080/"
        },
        "outputId": "c1a946cd-0961-4dd6-9ade-86346ed4a387"
      },
      "execution_count": null,
      "outputs": [
        {
          "output_type": "stream",
          "name": "stdout",
          "text": [
            "Original List --> [11, 12, 13, 14]\n",
            "SUM OF ALL PRIME ELEMENTS: 24\n"
          ]
        }
      ]
    },
    {
      "cell_type": "code",
      "source": [
        "#q11\n",
        "L = [11, 12, 13, 14]\n",
        "L.clear()\n",
        "print(L)"
      ],
      "metadata": {
        "colab": {
          "base_uri": "https://localhost:8080/"
        },
        "id": "flctmczqbA4Y",
        "outputId": "8f9691c9-2249-40c5-fd50-cc1afbde5e16"
      },
      "execution_count": null,
      "outputs": [
        {
          "output_type": "stream",
          "name": "stdout",
          "text": [
            "[]\n"
          ]
        }
      ]
    },
    {
      "cell_type": "code",
      "source": [
        "#q12\n",
        "L = [11, 12, 13, 14]\n",
        "del L"
      ],
      "metadata": {
        "id": "Ubn0vQTcfeTL"
      },
      "execution_count": null,
      "outputs": []
    },
    {
      "cell_type": "code",
      "source": [
        "#QUE 2\n",
        "#q1\n",
        "D={1:5.6,2:7.8,3:6.6,4:8.7,5:7.7}\n",
        "D[8]=8.8\n",
        "print(D)"
      ],
      "metadata": {
        "colab": {
          "base_uri": "https://localhost:8080/"
        },
        "id": "6d5ftgAwfufV",
        "outputId": "1e46c59e-f52a-4983-bb19-c0ee6a8c6ce4"
      },
      "execution_count": null,
      "outputs": [
        {
          "output_type": "stream",
          "name": "stdout",
          "text": [
            "{1: 5.6, 2: 7.8, 3: 6.6, 4: 8.7, 5: 7.7, 8: 8.8}\n"
          ]
        }
      ]
    },
    {
      "cell_type": "code",
      "source": [
        "#q2\n",
        "D={1:5.6,2:7.8,3:6.6,4:8.7,5:7.7}\n",
        "del D[2]\n",
        "print(D)"
      ],
      "metadata": {
        "colab": {
          "base_uri": "https://localhost:8080/"
        },
        "id": "7DA0TsfngIPV",
        "outputId": "38c40e40-8892-419f-a219-8f5fc0d55a04"
      },
      "execution_count": null,
      "outputs": [
        {
          "output_type": "stream",
          "name": "stdout",
          "text": [
            "{1: 5.6, 3: 6.6, 4: 8.7, 5: 7.7}\n"
          ]
        }
      ]
    },
    {
      "cell_type": "code",
      "source": [
        "#q3\n",
        "D={1:5.6,2:7.8,3:6.6,4:8.7,5:7.7}\n",
        "if(6 in D):\n",
        "  print(\"present\")\n",
        "else:\n",
        "  print(\"not present\")"
      ],
      "metadata": {
        "colab": {
          "base_uri": "https://localhost:8080/"
        },
        "id": "4lh62kaXgOXp",
        "outputId": "2b7d390f-a929-4646-81ea-89ced4cb338e"
      },
      "execution_count": null,
      "outputs": [
        {
          "output_type": "stream",
          "name": "stdout",
          "text": [
            "not present\n"
          ]
        }
      ]
    },
    {
      "cell_type": "code",
      "source": [
        "#q4\n",
        "D={1:5.6,2:7.8,3:6.6,4:8.7,5:7.7}\n",
        "a=0\n",
        "for s in D:\n",
        "  a=a+1\n",
        "print(\"Total number of elements in Dictionary ->\",a)"
      ],
      "metadata": {
        "colab": {
          "base_uri": "https://localhost:8080/"
        },
        "id": "wiKDSu2ohd7q",
        "outputId": "4c76e113-b12d-4f49-856f-73a5456d1457"
      },
      "execution_count": null,
      "outputs": [
        {
          "output_type": "stream",
          "name": "stdout",
          "text": [
            "Total number of elements in Dictionary -> 5\n"
          ]
        }
      ]
    },
    {
      "cell_type": "code",
      "source": [
        "#q5\n",
        "D={1:5.6,2:7.8,3:6.6,4:8.7,5:7.7}\n",
        "total = sum(D.values())\n",
        "print(\"Sum of all values:\", total)\n",
        "\n",
        "\"\"\"\n",
        "D={1:5.6,2:7.8,3:6.6,4:8.7,5:7.7}\n",
        "total=0.0\n",
        "for key in D:\n",
        "    total += D[key]\n",
        "print(\"Sum of all values is:\", total)\n",
        "\"\"\""
      ],
      "metadata": {
        "colab": {
          "base_uri": "https://localhost:8080/",
          "height": 53
        },
        "id": "Iqo0lifMhtL3",
        "outputId": "353626c7-7905-466f-c16f-79f54517efa4"
      },
      "execution_count": null,
      "outputs": [
        {
          "output_type": "stream",
          "name": "stdout",
          "text": [
            "Sum of all values: 36.4\n"
          ]
        },
        {
          "output_type": "execute_result",
          "data": {
            "text/plain": [
              "'\\nD={1:5.6,2:7.8,3:6.6,4:8.7,5:7.7}\\ntotal=0.0\\nfor key in D:\\n    total += D[key]\\nprint(\"Sum of all values is:\", total)\\n'"
            ],
            "application/vnd.google.colaboratory.intrinsic+json": {
              "type": "string"
            }
          },
          "metadata": {},
          "execution_count": 73
        }
      ]
    },
    {
      "cell_type": "code",
      "source": [
        "#q6\n",
        "D={1:5.6,2:7.8,3:6.6,4:8.7,5:7.7}\n",
        "D[3]=7.1\n",
        "print(D)"
      ],
      "metadata": {
        "colab": {
          "base_uri": "https://localhost:8080/"
        },
        "id": "0sMn6Teyz78R",
        "outputId": "f5e620d2-ad4a-4273-df76-a2b2127f0099"
      },
      "execution_count": null,
      "outputs": [
        {
          "output_type": "stream",
          "name": "stdout",
          "text": [
            "{1: 5.6, 2: 7.8, 3: 7.1, 4: 8.7, 5: 7.7}\n"
          ]
        }
      ]
    },
    {
      "cell_type": "code",
      "source": [
        "#q7\n",
        "D={1:5.6,2:7.8,3:6.6,4:8.7,5:7.7}\n",
        "D.clear()\n",
        "print(D)\n"
      ],
      "metadata": {
        "colab": {
          "base_uri": "https://localhost:8080/"
        },
        "id": "8q9su_RP1dab",
        "outputId": "0a35b1d2-5205-41d0-8b65-e7a7b5e2c199"
      },
      "execution_count": null,
      "outputs": [
        {
          "output_type": "stream",
          "name": "stdout",
          "text": [
            "{}\n"
          ]
        }
      ]
    },
    {
      "cell_type": "code",
      "source": [
        "#QUE 3\n",
        "#q1\n",
        "S1 = set([10, 20, 30, 40, 50, 60])\n",
        "S1.add(55)\n",
        "S1.add(66)\n",
        "\n",
        "print(\"Updated Set S1:\", S1)"
      ],
      "metadata": {
        "colab": {
          "base_uri": "https://localhost:8080/"
        },
        "id": "rs_o-Ljy1sbl",
        "outputId": "47f1cf14-b5e8-46ab-f200-7ebb8c35a3ce"
      },
      "execution_count": null,
      "outputs": [
        {
          "output_type": "stream",
          "name": "stdout",
          "text": [
            "Updated Set S1: {66, 40, 10, 50, 20, 55, 60, 30}\n"
          ]
        }
      ]
    },
    {
      "cell_type": "code",
      "source": [
        "#q2\n",
        "S1 = set([10, 20, 30, 40, 50, 60])\n",
        "S1.remove(10)\n",
        "S1.remove(30)\n",
        "\n",
        "print(\"Updated Set S1:\", S1)"
      ],
      "metadata": {
        "colab": {
          "base_uri": "https://localhost:8080/"
        },
        "id": "8coZfUOK3KcZ",
        "outputId": "574d621b-423c-485f-cacc-9fa94d12ba68"
      },
      "execution_count": null,
      "outputs": [
        {
          "output_type": "stream",
          "name": "stdout",
          "text": [
            "Updated Set S1: {40, 50, 20, 60}\n"
          ]
        }
      ]
    },
    {
      "cell_type": "code",
      "source": [
        "#q3\n",
        "S1 = set([10, 20, 30, 40, 50, 60])\n",
        "\n",
        "if(40 in S1):\n",
        "    print(\"40 is present in the set.\")\n",
        "else:\n",
        "    print(\"40 is not present in the set.\")"
      ],
      "metadata": {
        "colab": {
          "base_uri": "https://localhost:8080/"
        },
        "id": "Ck1nKWIn3sIh",
        "outputId": "caf9ae12-0b60-4a6d-f3e9-76fd3da31066"
      },
      "execution_count": null,
      "outputs": [
        {
          "output_type": "stream",
          "name": "stdout",
          "text": [
            "40 is present in the set.\n"
          ]
        }
      ]
    },
    {
      "cell_type": "code",
      "source": [
        "#q4\n",
        "S1 = set([10, 20, 30, 40, 50, 60])\n",
        "S2 = set([40,50,60,70,80,90])\n",
        "print(S1.union(S2))"
      ],
      "metadata": {
        "colab": {
          "base_uri": "https://localhost:8080/"
        },
        "id": "FwkZgkZv4a6g",
        "outputId": "1597d299-93ab-4f67-826a-1fe7d7e72066"
      },
      "execution_count": null,
      "outputs": [
        {
          "output_type": "stream",
          "name": "stdout",
          "text": [
            "{70, 40, 10, 80, 50, 20, 90, 60, 30}\n"
          ]
        }
      ]
    },
    {
      "cell_type": "code",
      "source": [
        "#q5\n",
        "S1 = set([10, 20, 30, 40, 50, 60])\n",
        "S2 = set([40,50,60,70,80,90])\n",
        "print(S1.intersection(S2))"
      ],
      "metadata": {
        "colab": {
          "base_uri": "https://localhost:8080/"
        },
        "id": "mBqyC3ZC5Kd2",
        "outputId": "3efdd99a-174f-4e39-e096-52d162f35d1e"
      },
      "execution_count": null,
      "outputs": [
        {
          "output_type": "stream",
          "name": "stdout",
          "text": [
            "{40, 50, 60}\n"
          ]
        }
      ]
    },
    {
      "cell_type": "code",
      "source": [
        "#q6\n",
        "S1 = set([10, 20, 30, 40, 50, 60])\n",
        "S2 = set([40,50,60,70,80,90])\n",
        "print(S1.difference(S2))"
      ],
      "metadata": {
        "colab": {
          "base_uri": "https://localhost:8080/"
        },
        "id": "ydJsr3HH5ite",
        "outputId": "e4af8d4e-7c3a-4900-b447-6e7813ca8fc0"
      },
      "execution_count": null,
      "outputs": [
        {
          "output_type": "stream",
          "name": "stdout",
          "text": [
            "{10, 20, 30}\n"
          ]
        }
      ]
    },
    {
      "cell_type": "code",
      "source": [
        "#QUE 4\n",
        "#q1\n",
        "import string as s\n",
        "import random as r"
      ],
      "metadata": {
        "id": "bxRYRHrP6QZt"
      },
      "execution_count": null,
      "outputs": []
    },
    {
      "cell_type": "code",
      "source": [
        "#q2\n",
        "for num in range(600,801):\n",
        "  is_prime=True\n",
        "  if num<2:\n",
        "    is_prime=False\n",
        "  for i in range(2,int(num**0.5)+1):\n",
        "    if num % i == 0:\n",
        "      is_prime=False\n",
        "      break\n",
        "  if is_prime:\n",
        "    print(num)"
      ],
      "metadata": {
        "colab": {
          "base_uri": "https://localhost:8080/"
        },
        "id": "2tjD2v-Ogx3O",
        "outputId": "3a538b97-4174-4335-88dd-11b1792a379c"
      },
      "execution_count": null,
      "outputs": [
        {
          "output_type": "stream",
          "name": "stdout",
          "text": [
            "601\n",
            "607\n",
            "613\n",
            "617\n",
            "619\n",
            "631\n",
            "641\n",
            "643\n",
            "647\n",
            "653\n",
            "659\n",
            "661\n",
            "673\n",
            "677\n",
            "683\n",
            "691\n",
            "701\n",
            "709\n",
            "719\n",
            "727\n",
            "733\n",
            "739\n",
            "743\n",
            "751\n",
            "757\n",
            "761\n",
            "769\n",
            "773\n",
            "787\n",
            "797\n"
          ]
        }
      ]
    },
    {
      "cell_type": "code",
      "source": [
        "#q3\n",
        "for num in range(100, 1001):\n",
        "    if num % 7 == 0 and num % 9 == 0:\n",
        "        print(num)\n"
      ],
      "metadata": {
        "colab": {
          "base_uri": "https://localhost:8080/"
        },
        "id": "c6m6XEM_g0B6",
        "outputId": "861c6f08-8470-494d-bb00-28f928677445"
      },
      "execution_count": null,
      "outputs": [
        {
          "output_type": "stream",
          "name": "stdout",
          "text": [
            "126\n",
            "189\n",
            "252\n",
            "315\n",
            "378\n",
            "441\n",
            "504\n",
            "567\n",
            "630\n",
            "693\n",
            "756\n",
            "819\n",
            "882\n",
            "945\n"
          ]
        }
      ]
    },
    {
      "cell_type": "code",
      "source": [
        "#QUE 5\n",
        "#q1\n",
        "import random\n",
        "\n",
        "list1 = random.sample(range(10, 31), 10)\n",
        "list2 = random.sample(range(10, 31), 10)\n",
        "\n",
        "print(\"List 1:\", list1)\n",
        "print(\"List 2:\", list2)\n",
        "\n",
        "common = list(set(list1) & set(list2))\n",
        "print(\"Common numbers:\", common)"
      ],
      "metadata": {
        "colab": {
          "base_uri": "https://localhost:8080/"
        },
        "id": "QytP2SZUg15O",
        "outputId": "9f0c13af-7361-49ff-8333-c299022653de"
      },
      "execution_count": null,
      "outputs": [
        {
          "output_type": "stream",
          "name": "stdout",
          "text": [
            "List 1: [22, 25, 16, 13, 19, 10, 27, 14, 17, 15]\n",
            "List 2: [12, 18, 14, 30, 15, 13, 20, 26, 22, 21]\n",
            "Common numbers: [22, 13, 14, 15]\n"
          ]
        }
      ]
    },
    {
      "cell_type": "code",
      "source": [
        "#q2\n",
        "import random\n",
        "\n",
        "list1 = random.sample(range(10, 31), 10)\n",
        "list2 = random.sample(range(10, 31), 10)\n",
        "print(\"List 1:\", list1)\n",
        "print(\"List 2:\", list2)\n",
        "unique = list(set(list1) ^ set(list2))\n",
        "print(\"Unique numbers:\", unique)"
      ],
      "metadata": {
        "colab": {
          "base_uri": "https://localhost:8080/"
        },
        "id": "h6hrXqVpX7M9",
        "outputId": "edf7a071-b4ac-4361-8d6a-98a6269f2af1"
      },
      "execution_count": null,
      "outputs": [
        {
          "output_type": "stream",
          "name": "stdout",
          "text": [
            "List 1: [17, 23, 18, 10, 27, 29, 28, 12, 30, 20]\n",
            "List 2: [16, 25, 11, 26, 10, 12, 17, 18, 22, 24]\n",
            "Unique numbers: [11, 16, 20, 22, 23, 24, 25, 26, 27, 28, 29, 30]\n"
          ]
        }
      ]
    },
    {
      "cell_type": "code",
      "source": [
        "#q3\n",
        "import random\n",
        "\n",
        "list1 = random.sample(range(10, 31), 10)\n",
        "list2 = random.sample(range(10, 31), 10)\n",
        "print(\"List 1:\", list1)\n",
        "print(\"List 2:\", list2)\n",
        "print(\"Minimum in List1:\", min(list1))\n",
        "print(\"Minimum in List2:\", min(list2))"
      ],
      "metadata": {
        "colab": {
          "base_uri": "https://localhost:8080/"
        },
        "id": "mSY44KEGYN7g",
        "outputId": "27ca4abe-bb15-462f-b9fa-63ba231cd5da"
      },
      "execution_count": null,
      "outputs": [
        {
          "output_type": "stream",
          "name": "stdout",
          "text": [
            "List 1: [22, 16, 10, 29, 25, 30, 15, 24, 19, 12]\n",
            "List 2: [16, 14, 20, 26, 18, 19, 29, 21, 28, 24]\n",
            "Minimum in List1: 10\n",
            "Minimum in List2: 14\n"
          ]
        }
      ]
    },
    {
      "cell_type": "code",
      "source": [
        "#q4\n",
        "import random\n",
        "\n",
        "list1 = random.sample(range(10, 31), 10)\n",
        "list2 = random.sample(range(10, 31), 10)\n",
        "print(\"List 1:\", list1)\n",
        "print(\"List 2:\", list2)\n",
        "print(\"Maximum in List1:\", max(list1))\n",
        "print(\"Maximum in List2:\", max(list2))"
      ],
      "metadata": {
        "colab": {
          "base_uri": "https://localhost:8080/"
        },
        "id": "47Uf4ixiZF-6",
        "outputId": "bbf4a4b1-a9f8-454e-82da-9c4e108c1fca"
      },
      "execution_count": null,
      "outputs": [
        {
          "output_type": "stream",
          "name": "stdout",
          "text": [
            "List 1: [26, 28, 10, 15, 19, 25, 12, 13, 27, 21]\n",
            "List 2: [17, 27, 22, 16, 21, 26, 20, 15, 19, 25]\n",
            "Maximum in List1: 28\n",
            "Maximum in List2: 27\n"
          ]
        }
      ]
    },
    {
      "cell_type": "code",
      "source": [
        "#q5\n",
        "import random\n",
        "\n",
        "list1 = random.sample(range(10, 31), 10)\n",
        "list2 = random.sample(range(10, 31), 10)\n",
        "print(\"List 1:\", list1)\n",
        "print(\"List 2:\", list2)\n",
        "print(\"Sum of List1:\", sum(list1))\n",
        "print(\"Sum of List2:\", sum(list2))"
      ],
      "metadata": {
        "colab": {
          "base_uri": "https://localhost:8080/"
        },
        "id": "Bj1kq2dgZM_5",
        "outputId": "f6d9ae33-866c-48d7-c294-3f376ec4813d"
      },
      "execution_count": null,
      "outputs": [
        {
          "output_type": "stream",
          "name": "stdout",
          "text": [
            "List 1: [20, 11, 14, 30, 10, 25, 13, 26, 27, 17]\n",
            "List 2: [12, 13, 21, 14, 19, 10, 28, 24, 16, 30]\n",
            "Sum of List1: 193\n",
            "Sum of List2: 187\n"
          ]
        }
      ]
    },
    {
      "cell_type": "code",
      "source": [
        "#QUE 6\n",
        "#q1\n",
        "import random\n",
        "nums = random.sample(range(100, 901), 100)\n",
        "odds = [n for n in nums if n % 2 != 0]\n",
        "print(\"Odd numbers:\", odds)"
      ],
      "metadata": {
        "colab": {
          "base_uri": "https://localhost:8080/"
        },
        "id": "CakRddNWZXnG",
        "outputId": "1e76fa91-5924-49e1-d3d0-febcfe87b0ac"
      },
      "execution_count": null,
      "outputs": [
        {
          "output_type": "stream",
          "name": "stdout",
          "text": [
            "Odd numbers: [599, 495, 359, 407, 451, 763, 525, 241, 625, 289, 193, 207, 669, 785, 601, 823, 577, 757, 107, 261, 719, 309, 639, 139, 455, 295, 141, 725, 209, 787, 413, 475, 491, 897, 587, 429, 567, 593, 557, 447, 177, 227, 485, 351, 437, 153, 293, 129, 689]\n"
          ]
        }
      ]
    },
    {
      "cell_type": "code",
      "source": [
        "#q2\n",
        "import random\n",
        "nums = random.sample(range(100, 901), 100)\n",
        "evens = [n for n in nums if n % 2 == 0]\n",
        "print(\"Even numbers:\", evens)"
      ],
      "metadata": {
        "colab": {
          "base_uri": "https://localhost:8080/"
        },
        "id": "Mdt7ubm2Zo26",
        "outputId": "b6907d04-661f-45d1-c20f-40d1235dacdf"
      },
      "execution_count": null,
      "outputs": [
        {
          "output_type": "stream",
          "name": "stdout",
          "text": [
            "Even numbers: [550, 212, 398, 268, 160, 654, 114, 856, 660, 248, 864, 154, 506, 534, 314, 888, 106, 374, 638, 860, 184, 898, 772, 402, 844, 684, 554, 146, 372, 164, 716, 642, 842, 134, 646, 110, 800, 590, 700, 362, 764, 262, 602, 900, 438, 266, 664, 574]\n"
          ]
        }
      ]
    },
    {
      "cell_type": "code",
      "source": [
        "#q3\n",
        "import random\n",
        "nums = random.sample(range(100, 901), 100)\n",
        "def is_prime(n):\n",
        "    if n < 2: return False\n",
        "    for i in range(2, int(n**0.5)+1):\n",
        "        if n % i == 0:\n",
        "            return False\n",
        "    return True\n",
        "\n",
        "primes = [n for n in nums if is_prime(n)]\n",
        "print(primes)"
      ],
      "metadata": {
        "colab": {
          "base_uri": "https://localhost:8080/"
        },
        "id": "n0qmeuRSZ5-1",
        "outputId": "5e8c2235-ecb6-463c-f402-8eb60b9b8bdc"
      },
      "execution_count": null,
      "outputs": [
        {
          "output_type": "stream",
          "name": "stdout",
          "text": [
            "[443, 463, 673, 751, 863, 653, 227, 577, 709, 347, 233, 211, 743, 307, 359, 419, 757, 769, 457, 883, 433, 853]\n"
          ]
        }
      ]
    },
    {
      "cell_type": "code",
      "source": [
        "#QUE 7\n",
        "D = {1: \"One\", 2: \"Two\", 3: \"Three\", 4: \"Four\", 5: \"Five\"}\n",
        "\n",
        "with open(\"dictionary_output.txt\", \"w\") as file:\n",
        "    for k, v in D.items():\n",
        "        file.write(f\"Key{k}, {v}\\n\")\n"
      ],
      "metadata": {
        "id": "dujIAX41mtvS"
      },
      "execution_count": null,
      "outputs": []
    },
    {
      "cell_type": "code",
      "source": [
        "#QUE 8\n",
        "L = [\"One\", \"Two\", \"Three\", \"Four\", \"Five\"]\n",
        "\n",
        "with open(\"list_lengths.txt\", \"w\") as file:\n",
        "    for item in L:\n",
        "        file.write(f\"{item}, {len(item)}\\n\")\n"
      ],
      "metadata": {
        "id": "0ikwkI3_miNl"
      },
      "execution_count": null,
      "outputs": []
    },
    {
      "cell_type": "code",
      "source": [
        "#QUE 9\n",
        "import random\n",
        "import string\n",
        "\n",
        "with open(\"random_strings.txt\", \"w\") as file:\n",
        "    for _ in range(100):\n",
        "        length = random.randint(10, 15)\n",
        "        rand_str = ''.join(random.choices(string.ascii_letters + string.digits, k=length))\n",
        "        file.write(rand_str + \"\\n\")\n"
      ],
      "metadata": {
        "id": "KKdTX4bBakkp"
      },
      "execution_count": null,
      "outputs": []
    },
    {
      "cell_type": "code",
      "source": [
        "#QUE 10\n",
        "def is_prime(n):\n",
        "    if n < 2: return False\n",
        "    for i in range(2, int(n**0.5) + 1):\n",
        "        if n % i == 0:\n",
        "            return False\n",
        "    return True\n",
        "\n",
        "with open(\"prime_600_800.txt\", \"w\") as file:\n",
        "    for num in range(600, 801):\n",
        "        if is_prime(num):\n",
        "            file.write(str(num) + \"\\n\")\n"
      ],
      "metadata": {
        "id": "s4jovCE2a4CO"
      },
      "execution_count": null,
      "outputs": []
    },
    {
      "cell_type": "code",
      "source": [
        "#QUE 11\n",
        "import time\n",
        "\n",
        "start = time.time()\n",
        "\n",
        "# Example operation (e.g., sorting)\n",
        "nums = [random.randint(1, 1000) for _ in range(10000)]\n",
        "sorted_nums = sorted(nums)\n",
        "\n",
        "end = time.time()\n",
        "\n",
        "print(\"Time taken:\", end - start, \"seconds\")\n"
      ],
      "metadata": {
        "colab": {
          "base_uri": "https://localhost:8080/"
        },
        "id": "6ODUMMT9a8OB",
        "outputId": "8b437f8e-79fb-4020-8889-255c4eba6821"
      },
      "execution_count": null,
      "outputs": [
        {
          "output_type": "stream",
          "name": "stdout",
          "text": [
            "Time taken: 0.007355451583862305 seconds\n"
          ]
        }
      ]
    },
    {
      "cell_type": "code",
      "source": [
        "#QUE 12\n",
        "import time\n",
        "import matplotlib.pyplot as plt\n",
        "\n",
        "sizes = [5000, 10000, 15000, 20000, 25000]\n",
        "times = []\n",
        "\n",
        "for size in sizes:\n",
        "    data = [random.randint(1, 100000) for _ in range(size)]\n",
        "    start = time.time()\n",
        "    sorted_data = sorted(data)\n",
        "    end = time.time()\n",
        "    times.append(end - start)\n",
        "    print(f\"Size: {size}, Time: {end - start:.4f} sec\")\n",
        "\n",
        "# Plotting\n",
        "plt.plot(sizes, times, marker='o')\n",
        "plt.title(\"Sorting Time vs List Size\")\n",
        "plt.xlabel(\"List Size\")\n",
        "plt.ylabel(\"Time (seconds)\")\n",
        "plt.grid(True)\n",
        "plt.show()\n"
      ],
      "metadata": {
        "colab": {
          "base_uri": "https://localhost:8080/",
          "height": 561
        },
        "id": "mQHx_LiOa_40",
        "outputId": "112f5b28-579a-468d-a4f9-2bd93081e982"
      },
      "execution_count": null,
      "outputs": [
        {
          "output_type": "stream",
          "name": "stdout",
          "text": [
            "Size: 5000, Time: 0.0008 sec\n",
            "Size: 10000, Time: 0.0017 sec\n",
            "Size: 15000, Time: 0.0043 sec\n",
            "Size: 20000, Time: 0.0045 sec\n",
            "Size: 25000, Time: 0.0070 sec\n"
          ]
        },
        {
          "output_type": "display_data",
          "data": {
            "text/plain": [
              "<Figure size 640x480 with 1 Axes>"
            ],
            "image/png": "[encoded data removed]"
          },
          "metadata": {}
        }
      ]
    },
    {
      "cell_type": "code",
      "source": [
        "#QUE 13\n",
        "students = {\n",
        "    \"Alice\": [89, 78, 92, 85, 76],\n",
        "    \"Bob\": [72, 88, 91, 67, 84],\n",
        "    \"Charlie\": [90, 91, 92, 93, 94],\n",
        "    \"David\": [60, 55, 65, 70, 50],\n",
        "    \"Eva\": [78, 80, 82, 84, 86]\n",
        "}\n",
        "\n",
        "averages = {name: sum(marks)/len(marks) for name, marks in students.items()}\n",
        "\n",
        "max_student = max(averages, key=averages.get)\n",
        "min_student = min(averages, key=averages.get)\n",
        "\n",
        "print(f\"Highest average: {max_student} with {averages[max_student]:.2f}\")\n",
        "print(f\"Lowest average: {min_student} with {averages[min_student]:.2f}\")\n"
      ],
      "metadata": {
        "colab": {
          "base_uri": "https://localhost:8080/"
        },
        "id": "YN4gHkU4bKTf",
        "outputId": "b4bddcc4-c9ee-4d1f-cc26-ad11807917af"
      },
      "execution_count": null,
      "outputs": [
        {
          "output_type": "stream",
          "name": "stdout",
          "text": [
            "Highest average: Charlie with 92.00\n",
            "Lowest average: David with 60.00\n"
          ]
        }
      ]
    }
  ]
}